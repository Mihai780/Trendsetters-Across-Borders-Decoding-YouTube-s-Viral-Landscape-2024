{
 "cells": [
  {
   "cell_type": "code",
   "execution_count": 1,
   "metadata": {
    "execution": {
     "iopub.execute_input": "2025-02-23T09:55:46.286555Z",
     "iopub.status.busy": "2025-02-23T09:55:46.286188Z",
     "iopub.status.idle": "2025-02-23T09:55:52.639563Z",
     "shell.execute_reply": "2025-02-23T09:55:52.638345Z",
     "shell.execute_reply.started": "2025-02-23T09:55:46.286525Z"
    },
    "trusted": true
   },
   "outputs": [
    {
     "name": "stdout",
     "output_type": "stream",
     "text": [
      "\u001b[2K   \u001b[90m━━━━━━━━━━━━━━━━━━━━━━━━━━━━━━━━━━━━━━━━\u001b[0m \u001b[32m6.3/6.3 MB\u001b[0m \u001b[31m60.3 MB/s\u001b[0m eta \u001b[36m0:00:00\u001b[0m:00:01\u001b[0m0:01\u001b[0m\n",
      "\u001b[?25h"
     ]
    }
   ],
   "source": [
    "!pip install -q pycountry"
   ]
  },
  {
   "cell_type": "code",
   "execution_count": 2,
   "metadata": {
    "execution": {
     "iopub.execute_input": "2025-02-23T09:55:52.641812Z",
     "iopub.status.busy": "2025-02-23T09:55:52.641366Z",
     "iopub.status.idle": "2025-02-23T09:55:54.697964Z",
     "shell.execute_reply": "2025-02-23T09:55:54.697040Z",
     "shell.execute_reply.started": "2025-02-23T09:55:52.641769Z"
    },
    "trusted": true
   },
   "outputs": [],
   "source": [
    "import numpy as np\n",
    "import pandas as pd\n",
    "import matplotlib.pyplot as plt\n",
    "import seaborn as sns\n",
    "import scipy.stats as stats\n",
    "import geopandas as gpd\n",
    "import pickle\n",
    "import scipy.stats as stats\n",
    "import pycountry\n",
    "from datetime import datetime, timedelta\n",
    "from tqdm import tqdm\n",
    "from scipy import stats\n",
    "import scipy\n",
    "from statsmodels.stats.proportion import proportions_ztest\n",
    "from statsmodels.stats.stattools import durbin_watson\n",
    "from statsmodels.stats.diagnostic import het_breuschpagan\n",
    "from statsmodels.graphics.gofplots import qqplot\n",
    "from statsmodels.tools import add_constant\n",
    "from collections import defaultdict, Counter\n",
    "from itertools import chain, combinations\n",
    "from matplotlib.colors import LinearSegmentedColormap\n",
    "from matplotlib.ticker import PercentFormatter"
   ]
  },
  {
   "cell_type": "code",
   "execution_count": 3,
   "metadata": {
    "execution": {
     "iopub.execute_input": "2025-02-23T09:55:54.701136Z",
     "iopub.status.busy": "2025-02-23T09:55:54.700387Z",
     "iopub.status.idle": "2025-02-23T09:55:54.705291Z",
     "shell.execute_reply": "2025-02-23T09:55:54.704315Z",
     "shell.execute_reply.started": "2025-02-23T09:55:54.701104Z"
    },
    "trusted": true
   },
   "outputs": [],
   "source": [
    "import matplotlib\n",
    "matplotlib.rcParams['font.size'] = 30"
   ]
  },
  {
   "cell_type": "markdown",
   "metadata": {},
   "source": [
    "### Regional Data & Statistics"
   ]
  },
  {
   "cell_type": "code",
   "execution_count": 4,
   "metadata": {
    "execution": {
     "iopub.execute_input": "2025-02-23T09:55:54.707260Z",
     "iopub.status.busy": "2025-02-23T09:55:54.706913Z",
     "iopub.status.idle": "2025-02-23T09:55:54.739378Z",
     "shell.execute_reply": "2025-02-23T09:55:54.738195Z",
     "shell.execute_reply.started": "2025-02-23T09:55:54.707234Z"
    },
    "trusted": true
   },
   "outputs": [],
   "source": [
    "regions = {\n",
    "    'Middle East': ['AE', 'BH', 'IQ', 'IL', 'JO', 'KW', 'LB', 'OM', 'QA', 'SA', 'YE'],\n",
    "    'North Africa': ['DZ', 'EG', 'LY', 'MA', 'TN'],\n",
    "    'North America': ['CA', 'US'],\n",
    "    'South Asia': ['BD', 'IN', 'LK', 'NP', 'PK'],\n",
    "    'Caribbean': ['JM', 'PR', 'DO'],\n",
    "    'Southeast Asia': ['ID', 'KH', 'LA', 'MY', 'PH', 'SG', 'TH', 'VN'],\n",
    "    'East Asia': ['HK', 'JP', 'KR', 'MN', 'TW'],\n",
    "    'Europe': ['AL', 'AT', 'BA', 'BE', 'BG', 'CH', 'CY', 'CZ', 'DE', 'DK', 'EE', 'ES', \n",
    "               'FI', 'FR', 'GB', 'GR', 'HR', 'HU', 'IE', 'IS', 'IT', 'LI', 'LT', 'LU', \n",
    "               'LV', 'MD', 'ME', 'MK', 'MT', 'NL', 'NO', 'PL', 'PT', 'RO', 'RS', 'RU', \n",
    "               'SE', 'SI', 'SK', 'UA'],\n",
    "    'Latin America': ['AR', 'BO', 'BR', 'CL', 'CO', 'CR', 'DO', 'EC', 'GT', 'HN', 'MX', \n",
    "                     'NI', 'PA', 'PE', 'PR', 'PY', 'SV', 'UY', 'VE'],\n",
    "    'Sub-Saharan Africa': ['GH', 'KE', 'NG', 'SN', 'TZ', 'UG', 'ZA', 'ZW'],\n",
    "    'Oceania': ['AU', 'NZ', 'PG'],\n",
    "    'Central Asia': ['AM', 'AZ', 'GE', 'KZ'],\n",
    "}\n",
    "\n",
    "hdi_index_by_country = {\n",
    "    'US': 0.927,  # United States\n",
    "    #'BY': 0.801,  # Belarus\n",
    "    'RS': 0.805,  # Serbia\n",
    "    'LK': 0.780,  # Sri Lanka\n",
    "    'DE': 0.950,  # Germany\n",
    "    'KW': 0.847,  # Kuwait\n",
    "    'BH': 0.888,  # Bahrain\n",
    "    'MY': 0.807,  # Malaysia\n",
    "    'PE': 0.762,  # Peru\n",
    "    'KH': 0.600,  # Cambodia\n",
    "    'ZW': 0.550,  # Zimbabwe (updated)\n",
    "    'DO': 0.766,  # Dominican Republic\n",
    "    'LU': 0.927,  # Luxembourg\n",
    "    'RO': 0.827,  # Romania\n",
    "    'EE': 0.899,  # Estonia\n",
    "    'AU': 0.946,  # Australia\n",
    "    'CA': 0.935,  # Canada\n",
    "    'PK': 0.540,  # Pakistan (updated)\n",
    "    'QA': 0.875,  # Qatar\n",
    "    'BD': 0.670,  # Bangladesh\n",
    "    'TH': 0.803,  # Thailand\n",
    "    'EG': 0.728,  # Egypt\n",
    "    'AL': 0.789,  # Albania\n",
    "    'MA': 0.698,  # Morocco\n",
    "    'UA': 0.734,  # Ukraine\n",
    "    'TN': 0.732,  # Tunisia\n",
    "    'FR': 0.910,  # France\n",
    "    'DZ': 0.745,  # Algeria\n",
    "    'LA': 0.620,  # Lao PDR\n",
    "    'AM': 0.786,  # Armenia\n",
    "    'YE': 0.424,  # Yemen (updated)\n",
    "    'AZ': 0.760,  # Azerbaijan\n",
    "    'ZA': 0.717,  # South Africa\n",
    "    'UG': 0.550,  # Uganda (updated)\n",
    "    'HN': 0.624,  # Honduras\n",
    "    'CY': 0.907,  # Cyprus\n",
    "    'PY': 0.731,  # Paraguay\n",
    "    'BO': 0.698,  # Bolivia\n",
    "    'KZ': 0.802,  # Kazakhstan\n",
    "    'MD': 0.763,  # Moldova\n",
    "    'LY': 0.746,  # Libya\n",
    "    'VE': 0.699,  # Venezuela\n",
    "    'MK': 0.765,  # North Macedonia\n",
    "    'IS': 0.959,  # Iceland\n",
    "    'ES': 0.911,  # Spain\n",
    "    'CH': 0.967,  # Switzerland\n",
    "    'ME': 0.844,  # Montenegro\n",
    "    'JP': 0.920,  # Japan\n",
    "    'KR': 0.929,  # Korea, Republic of\n",
    "    'CZ': 0.895,  # Czech Republic\n",
    "    'PR': None,   # Puerto Rico (no data provided)\n",
    "    'HR': 0.878,  # Croatia\n",
    "    'GT': 0.629,  # Guatemala\n",
    "    'DK': 0.952,  # Denmark\n",
    "    'SN': 0.517,  # Senegal (updated)\n",
    "    'IL': 0.915,  # Israel\n",
    "    'AR': 0.849,  # Argentina\n",
    "    'SK': 0.855,  # Slovakia\n",
    "    'HK': 0.956,  # Hong Kong\n",
    "    'GH': 0.602,  # Ghana\n",
    "    'ID': 0.713,  # Indonesia\n",
    "    'HU': 0.851,  # Hungary\n",
    "    'NP': 0.601,  # Nepal\n",
    "    'GR': 0.893,  # Greece\n",
    "    'MX': 0.781,  # Mexico\n",
    "    'MN': 0.741,  # Mongolia\n",
    "    'RU': 0.821,  # Russian Federation\n",
    "    'LB': 0.723,  # Lebanon\n",
    "    'BG': 0.799,  # Bulgaria\n",
    "    'TW': 0.916,   # Taiwan (no data provided)\n",
    "    'IE': 0.950,  # Ireland\n",
    "    'PT': 0.874,  # Portugal\n",
    "    'PA': 0.820,  # Panama\n",
    "    'JO': 0.736,  # Jordan\n",
    "    'NI': 0.669,  # Nicaragua\n",
    "    'PH': 0.710,  # Philippines\n",
    "    'NL': 0.946,  # Netherlands\n",
    "    'PL': 0.881,  # Poland\n",
    "    'LV': 0.879,  # Latvia\n",
    "    'SG': 0.949,  # Singapore\n",
    "    'IQ': 0.673,  # Iraq\n",
    "    'EC': 0.765,  # Ecuador\n",
    "    'SV': 0.674,  # El Salvador\n",
    "    'CL': 0.860,  # Chile\n",
    "    'LI': 0.942,  # Liechtenstein\n",
    "    'BR': 0.760,  # Brazil\n",
    "    'MT': 0.915,  # Malta\n",
    "    'JM': 0.706,  # Jamaica\n",
    "    'SE': 0.952,  # Sweden\n",
    "    'TZ': 0.532,  # Tanzania (updated)\n",
    "    #'TR': 0.855,  # Turkey\n",
    "    'CR': 0.806,  # Costa Rica\n",
    "    'FI': 0.942,  # Finland\n",
    "    'GE': 0.814,  # Georgia\n",
    "    'SA': 0.875,  # Saudi Arabia\n",
    "    'PG': 0.568,  # Papua New Guinea (updated)\n",
    "    'IN': 0.644,  # India\n",
    "    'LT': 0.879,  # Lithuania\n",
    "    'VN': 0.726,  # Vietnam\n",
    "    'IT': 0.906,  # Italy\n",
    "    'NZ': 0.939,  # New Zealand\n",
    "    'AT': 0.926,  # Austria\n",
    "    'AE': 0.937,  # United Arab Emirates\n",
    "    'UY': 0.830,  # Uruguay\n",
    "    'CO': 0.758,  # Colombia\n",
    "    'KE': 0.601,  # Kenya\n",
    "    'SI': 0.926,  # Slovenia\n",
    "    'NG': 0.548,  # Nigeria (updated)\n",
    "    'GB': 0.940,  # United Kingdom\n",
    "    'BE': 0.942,  # Belgium\n",
    "    'BA': 0.779,  # Bosnia and Herzegovina\n",
    "    'OM': 0.819,  # Oman\n",
    "    'NO': 0.966   # Norway\n",
    "}\n",
    "\n",
    "country_languages_official = {\n",
    "    'AL': ['sq'], 'AT': ['de-AT'], 'BA': ['bs', 'hr', 'sr-Cyrl', 'sr-Latn'], 'BE': ['nl-BE', 'fr-BE', 'de-BE'],\n",
    "    'BG': ['bg'], 'CY': ['el', 'tr'], 'CZ': ['cs'], 'DE': ['de-DE'], 'DK': ['da'], 'EE': ['et'], 'ES': ['es-ES'],\n",
    "    'FI': ['fi', 'sv'], 'FR': ['fr-FR'], 'GB': ['en-GB'], 'GR': ['el'], 'HR': ['hr'], 'HU': ['hu'], 'IE': ['en-IE', 'ga'],\n",
    "    'IS': ['is'], 'IT': ['it'], 'LT': ['lt'], 'LU': ['lb', 'fr-LU', 'de-LU'], 'LV': ['lv'], 'ME': ['sr-Cyrl', 'sr-Latn'],\n",
    "    'MK': ['mk'], 'NL': ['nl-NL'], 'PL': ['pl'], 'PT': ['pt-PT'], 'RO': ['ro'], 'RS': ['sr-Cyrl', 'sr-Latn'], 'RU': ['ru'],\n",
    "    'SE': ['sv'], 'SI': ['sl'], 'SK': ['sk'], 'UA': ['uk']\n",
    "}\n",
    "\n",
    "country_languages_widely_spoken = {\n",
    "    'AL': ['sq', 'it'], 'AT': ['de-AT', 'en-GB'], 'BA': ['bs', 'hr', 'sr-Cyrl', 'sr-Latn'], 'BE': ['nl-BE', 'fr-BE', 'de-BE', 'en-GB'],\n",
    "    'BG': ['bg', 'ru'], 'CY': ['el', 'tr', 'en-GB'], 'CZ': ['cs', 'de-DE', 'en-GB'], 'DE': ['de-DE', 'en-GB', 'tr'], 'DK': ['da', 'en-GB'],\n",
    "    'EE': ['et', 'ru'], 'ES': ['es-ES', 'en-GB', 'ca'], 'FI': ['fi', 'sv', 'en-GB'], 'FR': ['fr-FR', 'en-GB'], 'GB': ['en-GB'],\n",
    "    'GR': ['el', 'en-GB'], 'HR': ['hr', 'en-GB'], 'HU': ['hu', 'en-GB'], 'IE': ['en-IE', 'ga'], 'IS': ['is', 'en-GB'],\n",
    "    'IT': ['it', 'en-GB'], 'LT': ['lt', 'ru'], 'LU': ['lb', 'fr-LU', 'de-LU', 'en-GB'], 'LV': ['lv', 'ru'], 'ME': ['sr-Cyrl', 'sr-Latn', 'ru'],\n",
    "    'MK': ['mk', 'bg', 'sr-Cyrl', 'sr-Latn'], 'NL': ['nl-NL', 'en-GB'], 'PL': ['pl', 'de-DE', 'en-GB'], 'PT': ['pt-PT', 'en-GB'],\n",
    "    'RO': ['ro', 'en-GB'], 'RS': ['sr-Cyrl', 'sr-Latn', 'ru'], 'RU': ['ru'], 'SE': ['sv', 'en-GB'], 'SI': ['sl', 'en-GB'], 'SK': ['sk', 'hu', 'en-GB'],\n",
    "    'UA': ['uk', 'ru']\n",
    "}\n",
    "\n",
    "catid2str = {\n",
    "    2 : 'Autos & Vehicles',\n",
    "    1 :  'Film & Animation',\n",
    "    10 : 'Music',\n",
    "    15 : 'Pets & Animals',\n",
    "    17 : 'Sports',\n",
    "    18 : 'Short Movies',\n",
    "    19 : 'Travel & Events',\n",
    "    20 : 'Gaming',\n",
    "    21 : 'Videoblogging',\n",
    "    22 : 'People & Blogs',\n",
    "    23 : 'Comedy',\n",
    "    24 : 'Entertainment',\n",
    "    25 : 'News & Politics',\n",
    "    26 : 'Howto & Style',\n",
    "    27 : 'Education',\n",
    "    28 : 'Science & Technology',\n",
    "    29 : 'Nonprofits & Activism',\n",
    "    30 : 'Movies',\n",
    "    31 : 'Anime/Animation',\n",
    "    32 : 'Action/Adventure',\n",
    "    33 : 'Classics',\n",
    "    34 : 'Comedy',\n",
    "    35 : 'Documentary',\n",
    "    36 : 'Drama',\n",
    "    37 : 'Family',\n",
    "    38 : 'Foreign',\n",
    "    39 : 'Horror',\n",
    "    40 : 'Sci-Fi/Fantasy',\n",
    "    41 : 'Thriller',\n",
    "    42 : 'Shorts',\n",
    "    43 : 'Shows',\n",
    "    44 : 'Trailers'\n",
    "}\n",
    "country_to_iso_regions = {\n",
    "    'Europe' : {\n",
    "        'AL': 'ALB',  # Albania\n",
    "        'AT': 'AUT',  # Austria\n",
    "        'BA': 'BIH',  # Bosnia and Herzegovina\n",
    "        'BE': 'BEL',  # Belgium\n",
    "        'BG': 'BGR',  # Bulgaria\n",
    "        'CH': 'CHE',  # Switzerland\n",
    "        'CY': 'CYP',  # Cyprus\n",
    "        'CZ': 'CZE',  # Czech Republic\n",
    "        'DE': 'DEU',  # Germany\n",
    "        'DK': 'DNK',  # Denmark\n",
    "        'EE': 'EST',  # Estonia\n",
    "        'ES': 'ESP',  # Spain\n",
    "        'FI': 'FIN',  # Finland\n",
    "        'FR': 'FRA',  # France\n",
    "        'GB': 'GBR',  # United Kingdom\n",
    "        'GR': 'GRC',  # Greece\n",
    "        'HR': 'HRV',  # Croatia\n",
    "        'HU': 'HUN',  # Hungary\n",
    "        'IE': 'IRL',  # Ireland\n",
    "        'IS': 'ISL',  # Iceland\n",
    "        'IT': 'ITA',  # Italy\n",
    "        'LI': 'LIE',  # Liechtenstein\n",
    "        'LT': 'LTU',  # Lithuania\n",
    "        'LU': 'LUX',  # Luxembourg\n",
    "        'LV': 'LVA',  # Latvia\n",
    "        'MD': 'MDA',  # Moldova\n",
    "        'ME': 'MNE',  # Montenegro\n",
    "        'MK': 'MKD',  # North Macedonia\n",
    "        'MT': 'MLT',  # Malta\n",
    "        'NL': 'NLD',  # Netherlands\n",
    "        'NO': 'NOR',  # Norway\n",
    "        'PL': 'POL',  # Poland\n",
    "        'PT': 'PRT',  # Portugal\n",
    "        'RO': 'ROU',  # Romania\n",
    "        'RS': 'SRB',  # Serbia\n",
    "        'RU': 'RUS',  # Russia\n",
    "        'SE': 'SWE',  # Sweden\n",
    "        'SI': 'SVN',  # Slovenia\n",
    "        'SK': 'SVK',  # Slovakia\n",
    "        'UA': 'UKR'   # Ukraine\n",
    "    },\n",
    "    'Middle East' : {\n",
    "        'AE': 'ARE',  # United Arab Emirates\n",
    "        'BH': 'BHR',  # Bahrain\n",
    "        'IQ': 'IRQ',  # Iraq\n",
    "        'IL': 'ISR',  # Israel\n",
    "        'JO': 'JOR',  # Jordan\n",
    "        'KW': 'KWT',  # Kuwait\n",
    "        'LB': 'LBN',  # Lebanon\n",
    "        'OM': 'OMN',  # Oman\n",
    "        'QA': 'QAT',  # Qatar\n",
    "        'SA': 'SAU',  # Saudi Arabia\n",
    "        'YE': 'YEM'   # Yemen\n",
    "    },\n",
    "    'North Africa': {\n",
    "        'DZ': 'DZA',  # Algeria\n",
    "        'EG': 'EGY',  # Egypt\n",
    "        'LY': 'LBY',  # Libya\n",
    "        'MA': 'MAR',  # Morocco\n",
    "        'TN': 'TUN'   # Tunisia\n",
    "    },\n",
    "    'North America' : {\n",
    "        'CA': 'CAN',  # Canada\n",
    "        'US': 'USA'   # United States of America\n",
    "    },\n",
    "    'South Asia': {\n",
    "    'BD': 'BGD',  # Bangladesh\n",
    "    'IN': 'IND',  # India\n",
    "    'LK': 'LKA',  # Sri Lanka\n",
    "    'NP': 'NPL',  # Nepal\n",
    "    'PK': 'PAK'   # Pakistan\n",
    "},\n",
    "'Caribbean':{\n",
    "    'JM': 'JAM',  # Jamaica\n",
    "    'PR': 'PRI',  # Puerto Rico\n",
    "    'DO': 'DOM'   # Dominican Republic\n",
    "},\n",
    "'Southeast Asia': {\n",
    "    'ID': 'IDN',  # Indonesia\n",
    "    'KH': 'KHM',  # Cambodia\n",
    "    'LA': 'LAO',  # Laos\n",
    "    'MY': 'MYS',  # Malaysia\n",
    "    'PH': 'PHL',  # Philippines\n",
    "    'SG': 'SGP',  # Singapore\n",
    "    'TH': 'THA',  # Thailand\n",
    "    'VN': 'VNM'   # Vietnam\n",
    "},\n",
    "'East Asia': {\n",
    "    'HK': 'HKG',  # Hong Kong\n",
    "    'JP': 'JPN',  # Japan\n",
    "    'KR': 'KOR',  # South Korea\n",
    "    'MN': 'MNG',  # Mongolia\n",
    "    'TW': 'TWN'   # Taiwan\n",
    "},\n",
    "'Latin America':{\n",
    "    'AR': 'ARG',  # Argentina\n",
    "    'BO': 'BOL',  # Bolivia\n",
    "    'BR': 'BRA',  # Brazil\n",
    "    'CL': 'CHL',  # Chile\n",
    "    'CO': 'COL',  # Colombia\n",
    "    'CR': 'CRI',  # Costa Rica\n",
    "    'DO': 'DOM',  # Dominican Republic\n",
    "    'EC': 'ECU',  # Ecuador\n",
    "    'GT': 'GTM',  # Guatemala\n",
    "    'HN': 'HND',  # Honduras\n",
    "    'MX': 'MEX',  # Mexico\n",
    "    'NI': 'NIC',  # Nicaragua\n",
    "    'PA': 'PAN',  # Panama\n",
    "    'PE': 'PER',  # Peru\n",
    "    'PR': 'PRI',  # Puerto Rico\n",
    "    'PY': 'PRY',  # Paraguay\n",
    "    'SV': 'SLV',  # El Salvador\n",
    "    'UY': 'URY',  # Uruguay\n",
    "    'VE': 'VEN'   # Venezuela\n",
    "},\n",
    "'Sub-Saharan Africa':{\n",
    "    'GH': 'GHA',  # Ghana\n",
    "    'KE': 'KEN',  # Kenya\n",
    "    'NG': 'NGA',  # Nigeria\n",
    "    'SN': 'SEN',  # Senegal\n",
    "    'TZ': 'TZA',  # Tanzania\n",
    "    'UG': 'UGA',  # Uganda\n",
    "    'ZA': 'ZAF',  # South Africa\n",
    "    'ZW': 'ZWE'   # Zimbabwe\n",
    "},\n",
    "'Oceania':{\n",
    "    'AU': 'AUS',  # Australia\n",
    "    'NZ': 'NZL',  # New Zealand\n",
    "    'PG': 'PNG'   # Papua New Guinea\n",
    "},\n",
    "'Central Asia': {\n",
    "    'AM': 'ARM',  # Armenia\n",
    "    'AZ': 'AZE',  # Azerbaijan\n",
    "    'GE': 'GEO',  # Georgia\n",
    "    'KZ': 'KAZ'   # Kazakhstan\n",
    "}    \n",
    "}"
   ]
  },
  {
   "cell_type": "markdown",
   "metadata": {},
   "source": [
    "### Data Loading"
   ]
  },
  {
   "cell_type": "code",
   "execution_count": 5,
   "metadata": {
    "execution": {
     "iopub.execute_input": "2025-02-23T09:55:54.740954Z",
     "iopub.status.busy": "2025-02-23T09:55:54.740549Z",
     "iopub.status.idle": "2025-02-23T09:57:32.030053Z",
     "shell.execute_reply": "2025-02-23T09:57:32.028945Z",
     "shell.execute_reply.started": "2025-02-23T09:55:54.740922Z"
    },
    "trusted": true
   },
   "outputs": [
    {
     "name": "stderr",
     "output_type": "stream",
     "text": [
      "  0%|          | 0/12 [00:00<?, ?it/s]\n"
     ]
    },
    {
     "name": "stdout",
     "output_type": "stream",
     "text": [
      "No data found for AE\n"
     ]
    },
    {
     "ename": "AttributeError",
     "evalue": "'NoneType' object has no attribute 'iloc'",
     "output_type": "error",
     "traceback": [
      "\u001b[1;31m---------------------------------------------------------------------------\u001b[0m",
      "\u001b[1;31mAttributeError\u001b[0m                            Traceback (most recent call last)",
      "Cell \u001b[1;32mIn[5], line 17\u001b[0m\n\u001b[0;32m     15\u001b[0m \u001b[38;5;28;01mfor\u001b[39;00m country_code \u001b[38;5;129;01min\u001b[39;00m regions[region]:\n\u001b[0;32m     16\u001b[0m     df \u001b[38;5;241m=\u001b[39m load_country_data(country_code)\n\u001b[1;32m---> 17\u001b[0m     full_dataset_by_country[country_code] \u001b[38;5;241m=\u001b[39m (\u001b[43mdf\u001b[49m\u001b[38;5;241;43m.\u001b[39;49m\u001b[43miloc\u001b[49m[df[\u001b[38;5;124m'\u001b[39m\u001b[38;5;124mvideo_id\u001b[39m\u001b[38;5;124m'\u001b[39m]\u001b[38;5;241m.\u001b[39mdrop_duplicates()\u001b[38;5;241m.\u001b[39mindex])\u001b[38;5;241m.\u001b[39mreset_index(drop\u001b[38;5;241m=\u001b[39m\u001b[38;5;28;01mTrue\u001b[39;00m)\n",
      "\u001b[1;31mAttributeError\u001b[0m: 'NoneType' object has no attribute 'iloc'"
     ]
    }
   ],
   "source": [
    "def filter_dataframe(df):\n",
    "    return df.query(\"view_count < 0.5e9 and days_after_pub_to_first_trend >= 0\").reset_index(drop=True)\n",
    "\n",
    "def load_country_data(country_code):\n",
    "    \"\"\"Load data for a specific country and return emoji usage statistics\"\"\"\n",
    "    try:\n",
    "        df = pd.read_csv(f\"/kaggle/input/youtube-daily-trendings-with-features/dataset_with_features_{country_code}.csv\")\n",
    "        df = filter_dataframe(df)\n",
    "        return df\n",
    "    except FileNotFoundError:\n",
    "        print(f\"No data found for {country_code}\")\n",
    "        return None\n",
    "full_dataset_by_country = {}\n",
    "for region in tqdm(regions):\n",
    "    for country_code in regions[region]:\n",
    "        df = load_country_data(country_code)\n",
    "        full_dataset_by_country[country_code] = (df.iloc[df['video_id'].drop_duplicates().index]).reset_index(drop=True)"
   ]
  },
  {
   "cell_type": "markdown",
   "metadata": {},
   "source": [
    "# 4. Explore categories across the countries"
   ]
  },
  {
   "cell_type": "markdown",
   "metadata": {},
   "source": [
    "Goal:\n",
    "\n",
    "We want to understand and compare the popularity of different content categories across countries. Essentially, we are trying to discover which types of content are most common in each region and whether these trends differ significantly between countries."
   ]
  },
  {
   "cell_type": "code",
   "execution_count": 36,
   "metadata": {
    "execution": {
     "iopub.execute_input": "2025-02-23T09:57:46.042010Z",
     "iopub.status.busy": "2025-02-23T09:57:46.041705Z",
     "iopub.status.idle": "2025-02-23T09:57:52.528391Z",
     "shell.execute_reply": "2025-02-23T09:57:52.527310Z",
     "shell.execute_reply.started": "2025-02-23T09:57:46.041983Z"
    },
    "trusted": true
   },
   "outputs": [],
   "source": [
    "def load_video_categories(file_path):\n",
    "    \"\"\"Load video categories with consistency checks.\"\"\"\n",
    "    categories = pd.read_csv(file_path)\n",
    "    \n",
    "    video_categories = (\n",
    "        categories[['video_id', 'category_id']]\n",
    "        .dropna(subset=['category_id'])\n",
    "        .drop_duplicates(subset=['video_id'], keep='first')\n",
    "    )\n",
    "    \n",
    "    return video_categories.set_index('video_id')['category_id'].astype(int).to_dict()\n",
    "\n",
    "video2cat = load_video_categories('/kaggle/input/youtube-channel-info/unique_videos_with_category.csv')\n",
    "\n",
    "def process_channel_categories(full_dataset):\n",
    "    \"\"\"Aggregate video categories per channel using vectorized operations.\"\"\"\n",
    "    all_data = pd.concat([\n",
    "        df[['channel_id', 'video_id']] \n",
    "        for df in full_dataset.values()\n",
    "    ])\n",
    "\n",
    "    merged = all_data.merge(\n",
    "        pd.Series(video2cat, name='category_id').reset_index().rename(columns={'index': 'video_id'}),\n",
    "        on='video_id',\n",
    "        how='inner'\n",
    "    )\n",
    "    \n",
    "    channel_categories = merged.groupby('channel_id')['category_id'].agg(set)\n",
    "    return channel_categories.to_dict()\n",
    "\n",
    "channel_to_trending_videos = process_channel_categories(full_dataset_by_country)"
   ]
  },
  {
   "cell_type": "code",
   "execution_count": 37,
   "metadata": {
    "execution": {
     "iopub.execute_input": "2025-02-23T09:57:52.529733Z",
     "iopub.status.busy": "2025-02-23T09:57:52.529395Z",
     "iopub.status.idle": "2025-02-23T09:58:05.212067Z",
     "shell.execute_reply": "2025-02-23T09:58:05.210839Z",
     "shell.execute_reply.started": "2025-02-23T09:57:52.529707Z"
    },
    "trusted": true
   },
   "outputs": [
    {
     "name": "stderr",
     "output_type": "stream",
     "text": [
      "Calculating modes: 100%|██████████| 34382/34382 [00:12<00:00, 2713.66it/s]\n"
     ]
    }
   ],
   "source": [
    "def get_modal_category(categories):\n",
    "    \"\"\"Safely calculate mode of categories.\"\"\"\n",
    "    return stats.mode(list(categories)).mode\n",
    "\n",
    "channel_to_trending_videos = {\n",
    "    channel: get_modal_category(cats)\n",
    "    for channel, cats in tqdm(channel_to_trending_videos.items(),\n",
    "                             desc=\"Calculating modes\")\n",
    "}"
   ]
  },
  {
   "cell_type": "code",
   "execution_count": 38,
   "metadata": {
    "execution": {
     "iopub.execute_input": "2025-02-23T09:58:05.213373Z",
     "iopub.status.busy": "2025-02-23T09:58:05.213068Z",
     "iopub.status.idle": "2025-02-23T09:58:05.303498Z",
     "shell.execute_reply": "2025-02-23T09:58:05.302340Z",
     "shell.execute_reply.started": "2025-02-23T09:58:05.213347Z"
    },
    "trusted": true
   },
   "outputs": [
    {
     "name": "stderr",
     "output_type": "stream",
     "text": [
      "Mapping countries: 100%|██████████| 35123/35123 [00:00<00:00, 909625.26it/s]\n"
     ]
    }
   ],
   "source": [
    "def load_country_mapping(file_path, channel_data):\n",
    "    \"\"\"Load country mapping with missing channel tracking.\"\"\"\n",
    "    with open(file_path, 'rb') as f:\n",
    "        channel_to_country = pickle.load(f)\n",
    "    \n",
    "    country_map = defaultdict(list)\n",
    "    missed = []\n",
    "    \n",
    "    for channel, country in tqdm(channel_to_country.items(),\n",
    "        desc=\"Mapping countries\"):\n",
    "        if channel in channel_data:\n",
    "            if (category := channel_data[channel]) is not None:\n",
    "                country_map[country].append(category)\n",
    "        else:\n",
    "            missed.append(channel)\n",
    "    return dict(country_map), missed\n",
    "\n",
    "country2channelcat, missed_channels = load_country_mapping('dat/channel_countries.pickle', channel_to_trending_videos)"
   ]
  },
  {
   "cell_type": "code",
   "execution_count": 39,
   "metadata": {
    "execution": {
     "iopub.execute_input": "2025-02-23T09:58:05.305350Z",
     "iopub.status.busy": "2025-02-23T09:58:05.304931Z",
     "iopub.status.idle": "2025-02-23T09:58:05.318036Z",
     "shell.execute_reply": "2025-02-23T09:58:05.316714Z",
     "shell.execute_reply.started": "2025-02-23T09:58:05.305307Z"
    },
    "trusted": true
   },
   "outputs": [],
   "source": [
    "def get_unique_cats(country2channelcat):\n",
    "    all_categories = list(chain.from_iterable(country2channelcat.values()))\n",
    "    unique_categories = np.unique(all_categories)\n",
    "    return unique_categories\n",
    "USED_CATS = get_unique_cats(country2channelcat)"
   ]
  },
  {
   "cell_type": "code",
   "execution_count": 40,
   "metadata": {
    "execution": {
     "iopub.execute_input": "2025-02-23T09:58:05.319903Z",
     "iopub.status.busy": "2025-02-23T09:58:05.319505Z",
     "iopub.status.idle": "2025-02-23T09:58:06.056001Z",
     "shell.execute_reply": "2025-02-23T09:58:06.054805Z",
     "shell.execute_reply.started": "2025-02-23T09:58:05.319872Z"
    },
    "trusted": true
   },
   "outputs": [
    {
     "name": "stderr",
     "output_type": "stream",
     "text": [
      "<ipython-input-40-4e4499e4606c>:23: FutureWarning: DataFrame.applymap has been deprecated. Use DataFrame.map instead.\n",
      "  annotation_mask = df.applymap(lambda x: x > 0.05)\n"
     ]
    },
    {
     "data": {
      "image/png": "[encoded data removed]",
      "text/plain": [
       "<Figure size 1800x1200 with 2 Axes>"
      ]
     },
     "metadata": {},
     "output_type": "display_data"
    }
   ],
   "source": [
    "# 1. Create category mapping more efficiently\n",
    "used_categories = [c for c in catid2str if c in USED_CATS]\n",
    "catid2vecpos = {cat_id: idx for idx, cat_id in enumerate(sorted(used_categories, key=lambda x: catid2str[x]))}\n",
    "\n",
    "# 2. Optimized country distribution calculation\n",
    "country_to_topic_distr = defaultdict(lambda: np.zeros(len(catid2vecpos)))\n",
    "grand_total=0\n",
    "for country, categories in country2channelcat.items():\n",
    "    if country is None or len(categories) <=500:\n",
    "        continue\n",
    "    \n",
    "    # Vectorized counting using numpy\n",
    "    unique, counts = np.unique(categories, return_counts=True)\n",
    "    for cat_id, count in zip(unique, counts):\n",
    "        if cat_id in catid2vecpos:\n",
    "            country_to_topic_distr[country][catid2vecpos[cat_id]] = count\n",
    "            grand_total += count\n",
    "print(f\"\\nGrand Total Videos: {grand_total}\")\n",
    "\n",
    "# 3. Create DataFrame more efficiently\n",
    "df = pd.DataFrame.from_dict(\n",
    "    {country: dist/dist.sum() for country, dist in country_to_topic_distr.items()},\n",
    "    orient='index'\n",
    ")\n",
    "\n",
    "# Create meaningful column names\n",
    "df.columns = [catid2str[cat_id] for cat_id in sorted(catid2vecpos, key=lambda x: catid2vecpos[x])]\n",
    "\n",
    "\n",
    "\n",
    "def heat_map(local_df,text):\n",
    "    local_df = local_df.sort_index(axis=1)\n",
    "    local_df = local_df.sort_index(axis=0)\n",
    "    # Find actual maximum proportion in the data\n",
    "    data_max = 0.51 # local_df.values.max()\n",
    "\n",
    "    print(\"\\nCountry codes:\", local_df.index.tolist())\n",
    "    \n",
    "    # 4. Improved visualization parameters\n",
    "    plt.figure(figsize=(6, 6))\n",
    "    #plt.rcParams.update({'font.size': 12})\n",
    "\n",
    "    # Create custom colormap with better perceptual uniformity\n",
    "    colors = [\"#f0f9e8\", \"#7bccc4\", \"#0868ac\"]\n",
    "    cmap = LinearSegmentedColormap.from_list(\"custom_div\", colors, N=256)\n",
    "\n",
    "    # Create annotation mask for better readability\n",
    "    #annotation_mask = df.applymap(lambda x: x > 0.05)  # Only annotate values > 5%     \n",
    "    ax = sns.heatmap(\n",
    "        local_df,\n",
    "        cmap=cmap,\n",
    "        annot=False,\n",
    "        fmt=\".1%\",\n",
    "        annot_kws={'size': 10},\n",
    "        linewidths=0.5,\n",
    "        linecolor='white',\n",
    "        cbar_kws={\n",
    "            'label': 'Category Proportion per Country',\n",
    "            'ticks': np.linspace(0, data_max, 6),\n",
    "            'format': PercentFormatter(xmax=1.0, decimals=0),\n",
    "            'shrink': 0.8\n",
    "        },\n",
    "        square=True,\n",
    "        vmin=0,\n",
    "        vmax=data_max  # Set vmax to actual data maximum\n",
    "    )\n",
    "\n",
    "    # 5. Enhanced visualization styling\n",
    "    #ax.set_title(\"YouTube Content Category Distribution\\n by Country \"+text, fontsize=16, pad=20, fontweight='semibold')\n",
    "    ax.set_xlabel(\"Content Categories\", labelpad=15, fontsize=14)\n",
    "    ax.set_ylabel(\"Countries\", labelpad=15, fontsize=14)\n",
    "    ax.xaxis.tick_top()\n",
    "    ax.xaxis.set_label_position('top')\n",
    "\n",
    "    # Rotate labels and adjust alignment\n",
    "    plt.xticks(rotation=45, ha='left', rotation_mode='anchor', fontsize=9)\n",
    "    plt.yticks(rotation=0, fontsize=9)\n",
    "\n",
    "    # Add grid lines for better readability\n",
    "    ax.vlines(np.arange(len(local_df.columns)), 0, len(local_df), colors='white', linewidths=0.5)\n",
    "    ax.hlines(np.arange(len(local_df.index)), 0, len(local_df.columns), colors='white', linewidths=0.5)\n",
    "\n",
    "    # Adjust colorbar\n",
    "    # cbar = ax.collections[0].colorbar\n",
    "    # cbar.set_ticks([0, 0.2, 0.4, 0.6, 0.8, 1.0])\n",
    "    # cbar.set_ticklabels(['0%', '20%', '40%', '60%', '80%', '100%'])\n",
    "\n",
    "    plt.tight_layout()\n",
    "    plt.savefig('YT_Category_Distribution_by_Country '+text+'.png', dpi=600, bbox_inches='tight')  # Save as PNG with high resolution\n",
    "    plt.show()\n",
    "\n",
    "\n"
   ]
  },
  {
   "cell_type": "code",
   "execution_count": null,
   "metadata": {},
   "outputs": [],
   "source": [
    "# Directory containing the input files\n",
    "input_dir = 'kaggle\\\\youtube-daily-trendings-with-features'\n",
    "\n",
    "# List to hold individual DataFrames\n",
    "dataframes = []\n",
    "\n",
    "import os\n",
    "# Loop through the files and read them\n",
    "for filename in os.listdir(input_dir):\n",
    "    if filename.endswith('.csv'):\n",
    "        file_path = os.path.join(input_dir, filename)\n",
    "        df2 = pd.read_csv(file_path)\n",
    "        df2['source_file'] = filename  # Optional: Add a column to identify the source file\n",
    "        dataframes.append(df2)\n",
    "\n",
    "# Concatenate all DataFrames into one\n",
    "combined_df = pd.concat(dataframes, ignore_index=True)\n",
    "combined_df = combined_df[['video_id', 'title','country','channel_name','channel_id','publish_date','snapshot_date']].drop_duplicates()\n",
    "print(f\"Combined DataFrame shape: {combined_df.shape}\")\n",
    "\n",
    "unfiltered_merged = combined_df[['video_id', 'title','country','channel_name','channel_id','publish_date','snapshot_date']].merge(\n",
    "        pd.Series(video2cat, name='category_id').reset_index().rename(columns={'index': 'video_id'}),\n",
    "        on='video_id',\n",
    "        how='inner'\n",
    "    )\n",
    "\n",
    "print(\"unfiltered_merged.shape\",unfiltered_merged.shape)\n"
   ]
  },
  {
   "cell_type": "code",
   "execution_count": null,
   "metadata": {},
   "outputs": [],
   "source": [
    "#filter for year 2024\n",
    "unfiltered_merged = unfiltered_merged[pd.to_datetime(unfiltered_merged['snapshot_date']).dt.year == 2024]\n",
    "\n",
    "unfiltered_counts = unfiltered_merged.groupby(['country', 'category_id']).size().reset_index(name='total_videos')\n",
    "unfiltered_pivot = unfiltered_counts.pivot(index='country', columns='category_id', values='total_videos').fillna(0)\n",
    "\n",
    "selected_countries = ['IT', 'RU', 'HK', 'JP', 'FR', 'ID', 'US', 'IN', 'GB', 'DE', 'KR', 'ES', 'MX', 'TH', 'BR', 'PL']\n",
    "print(\"\\nCountry codes:\", unfiltered_pivot.index.tolist())\n",
    "#selected_countries = ['GT', 'OM', 'BH', 'LU', 'ME', 'BO', 'MT', 'LY', 'MN', 'LA', 'CR', 'VE', 'CI', 'PY', 'RE', 'MD', 'HN', 'IS', 'RW', 'TC', 'BF', 'MM', 'MC', 'WS', 'SY', 'NI', 'NC', 'UZ', 'AG', 'BJ', 'PG', 'AM']\n",
    "selected_countries = unfiltered_pivot.index.intersection(selected_countries)\n",
    "unfiltered_pivot = unfiltered_pivot.loc[selected_countries]\n",
    "\n",
    "unfiltered_pivot = unfiltered_pivot.rename(columns={\n",
    "    'Unknown Category': 'Nonprofits & Activism'  #Nonprofits & Activism / Unknown Category\n",
    "})\n",
    "\n",
    "\n",
    "grand_total = unfiltered_pivot.values.sum()     # Total videos across all countries and categories\n",
    "print(f\"\\nGrand Total Unfiltered Videos: {grand_total}\")\n",
    "# Normalize rows to get proportions\n",
    "unfiltered_pivot = unfiltered_pivot.div(unfiltered_pivot.sum(axis=1), axis=0)  # Divide each row by its sum\n",
    "\n",
    "# Create meaningful column names\n",
    "unfiltered_pivot.columns = [catid2str[cat_id] for cat_id in unfiltered_pivot.columns]\n",
    "heat_map(unfiltered_pivot,\"with duplicates\")\n",
    "heat_map(df,\"without duplicates\")"
   ]
  },
  {
   "cell_type": "code",
   "execution_count": 41,
   "metadata": {
    "execution": {
     "iopub.execute_input": "2025-02-23T09:58:06.057595Z",
     "iopub.status.busy": "2025-02-23T09:58:06.057079Z",
     "iopub.status.idle": "2025-02-23T09:58:06.064857Z",
     "shell.execute_reply": "2025-02-23T09:58:06.063653Z",
     "shell.execute_reply.started": "2025-02-23T09:58:06.057558Z"
    },
    "trusted": true
   },
   "outputs": [],
   "source": [
    "def compare_category_proportions(\n",
    "    country1: str,\n",
    "    country2: str,\n",
    "    category1_str: str,\n",
    "    category2_str: str,\n",
    "    country_to_categories: dict,\n",
    "    str_to_category_id: dict,\n",
    "    catid2vecpos: dict,\n",
    ") -> tuple[float, float]:\n",
    "    \"\"\"\n",
    "    Compare proportions of two categories between two countries using a z-test.\n",
    "    \n",
    "    Args:\n",
    "        country1: Name of first country to compare\n",
    "        country2: Name of second country to compare\n",
    "        category1_str: Category name for first country's test\n",
    "        category2_str: Category name for second country's test\n",
    "        country_to_categories: Dictionary mapping countries to category lists\n",
    "        str_to_category_id: Dictionary mapping category names to IDs\n",
    "        catid2vecpos: Dictionary mapping category IDs to vector positions\n",
    "        \n",
    "    Returns:\n",
    "        tuple: (z_score, p_value)\n",
    "        The test evaluates H0: p_category1_country1 = p_category2_country2\n",
    "                 against HA: p_category1_country1 < p_category2_country2\n",
    "    \"\"\"\n",
    "    cat1_id = str_to_category_id[category1_str]\n",
    "    cat2_id = str_to_category_id[category2_str]\n",
    "\n",
    "    def get_country_data(country):\n",
    "        return np.array(country_to_categories.get(country, []))\n",
    "        \n",
    "    country1_data = get_country_data(country1)\n",
    "    country2_data = get_country_data(country2)\n",
    "    count1 = country1_data[catid2vecpos[cat1_id]]\n",
    "    count2 = country2_data[catid2vecpos[cat2_id]]\n",
    "    nobs1 = sum(country1_data)\n",
    "    nobs2 = sum(country2_data)\n",
    "\n",
    "    zstat, pvalue = proportions_ztest(\n",
    "        count=[count1, count2],\n",
    "        nobs=[nobs1, nobs2],\n",
    "        alternative='smaller',\n",
    "        prop_var=False\n",
    "    )\n",
    "\n",
    "    return zstat, pvalue"
   ]
  },
  {
   "cell_type": "code",
   "execution_count": 42,
   "metadata": {
    "execution": {
     "iopub.execute_input": "2025-02-23T09:58:06.066171Z",
     "iopub.status.busy": "2025-02-23T09:58:06.065854Z",
     "iopub.status.idle": "2025-02-23T09:58:06.086169Z",
     "shell.execute_reply": "2025-02-23T09:58:06.084964Z",
     "shell.execute_reply.started": "2025-02-23T09:58:06.066144Z"
    },
    "trusted": true
   },
   "outputs": [],
   "source": [
    "str_to_category_id = {catid2str[k] : k for k in USED_CATS}"
   ]
  },
  {
   "cell_type": "code",
   "execution_count": 43,
   "metadata": {
    "execution": {
     "iopub.execute_input": "2025-02-23T09:58:06.087577Z",
     "iopub.status.busy": "2025-02-23T09:58:06.087116Z",
     "iopub.status.idle": "2025-02-23T09:58:06.107024Z",
     "shell.execute_reply": "2025-02-23T09:58:06.105900Z",
     "shell.execute_reply.started": "2025-02-23T09:58:06.087536Z"
    },
    "trusted": true
   },
   "outputs": [
    {
     "data": {
      "text/plain": [
       "(-4.630459077190578, 1.8242794506817324e-06)"
      ]
     },
     "execution_count": 43,
     "metadata": {},
     "output_type": "execute_result"
    }
   ],
   "source": [
    "compare_category_proportions('DE', 'RU', 'Comedy', 'Comedy', country_to_topic_distr, str_to_category_id, catid2vecpos)\n",
    "# Means that comedy is more popular in Russia as we use Bonferoni"
   ]
  },
  {
   "cell_type": "code",
   "execution_count": 44,
   "metadata": {
    "execution": {
     "iopub.execute_input": "2025-02-23T09:58:06.108374Z",
     "iopub.status.busy": "2025-02-23T09:58:06.108062Z",
     "iopub.status.idle": "2025-02-23T09:58:06.125876Z",
     "shell.execute_reply": "2025-02-23T09:58:06.124709Z",
     "shell.execute_reply.started": "2025-02-23T09:58:06.108340Z"
    },
    "trusted": true
   },
   "outputs": [
    {
     "data": {
      "text/plain": [
       "(-4.715565468470102, 1.205201851240021e-06)"
      ]
     },
     "execution_count": 44,
     "metadata": {},
     "output_type": "execute_result"
    }
   ],
   "source": [
    "compare_category_proportions('BR', 'GB', 'Sports', 'Sports', country_to_topic_distr, str_to_category_id, catid2vecpos)\n",
    "# Means that Sports is more popular in GB as we use Bonferoni"
   ]
  },
  {
   "cell_type": "code",
   "execution_count": 45,
   "metadata": {
    "execution": {
     "iopub.execute_input": "2025-02-23T09:58:06.127379Z",
     "iopub.status.busy": "2025-02-23T09:58:06.127053Z",
     "iopub.status.idle": "2025-02-23T09:58:06.152672Z",
     "shell.execute_reply": "2025-02-23T09:58:06.151568Z",
     "shell.execute_reply.started": "2025-02-23T09:58:06.127351Z"
    },
    "trusted": true
   },
   "outputs": [
    {
     "data": {
      "text/plain": [
       "(-11.843736241410618, 1.1594376722372352e-32)"
      ]
     },
     "execution_count": 45,
     "metadata": {},
     "output_type": "execute_result"
    }
   ],
   "source": [
    "compare_category_proportions('US', 'DE', 'Autos & Vehicles', 'Sports', country_to_topic_distr, str_to_category_id, catid2vecpos)\n",
    "# Means that Autos in DE are more popular than Sports in the US as we use Bonferoni"
   ]
  },
  {
   "cell_type": "code",
   "execution_count": null,
   "metadata": {},
   "outputs": [],
   "source": [
    "compare_category_proportions('DE', 'HK', 'People & Blogs', 'People & Blogs', country_to_topic_distr, str_to_category_id, catid2vecpos)\n"
   ]
  }
 ],
 "metadata": {
  "kaggle": {
   "accelerator": "none",
   "dataSources": [
    {
     "datasetId": 6552525,
     "sourceId": 10588414,
     "sourceType": "datasetVersion"
    },
    {
     "datasetId": 6687049,
     "sourceId": 10784969,
     "sourceType": "datasetVersion"
    }
   ],
   "dockerImageVersionId": 30886,
   "isGpuEnabled": false,
   "isInternetEnabled": true,
   "language": "python",
   "sourceType": "notebook"
  },
  "kernelspec": {
   "display_name": "Python 3",
   "language": "python",
   "name": "python3"
  },
  "language_info": {
   "codemirror_mode": {
    "name": "ipython",
    "version": 3
   },
   "file_extension": ".py",
   "mimetype": "text/x-python",
   "name": "python",
   "nbconvert_exporter": "python",
   "pygments_lexer": "ipython3",
   "version": "3.10.6"
  }
 },
 "nbformat": 4,
 "nbformat_minor": 4
}
